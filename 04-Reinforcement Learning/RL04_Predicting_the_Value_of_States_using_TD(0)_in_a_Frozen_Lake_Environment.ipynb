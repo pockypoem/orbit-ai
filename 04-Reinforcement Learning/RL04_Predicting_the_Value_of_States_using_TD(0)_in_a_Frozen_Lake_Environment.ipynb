{
  "cells": [
    {
      "cell_type": "markdown",
      "metadata": {
        "id": "DNPrKkZ7i1YO"
      },
      "source": [
        "# Predicting the value of states in a frozen lake environment\n",
        "We learned that in the prediction method, the policy is given as an input and we predict\n",
        "value function using the given policy. So let's initialize a random policy and predict the\n",
        "value function (state values) of the frozen lake environment using the random policy.\n",
        "\n",
        "First, let's import the necessary libraries:"
      ]
    },
    {
      "cell_type": "code",
      "execution_count": 20,
      "metadata": {
        "id": "W0i0CY2hi1YV"
      },
      "outputs": [],
      "source": [
        "import gym\n",
        "import pandas as pd"
      ]
    },
    {
      "cell_type": "markdown",
      "metadata": {
        "id": "1vcrGrfsi1YY"
      },
      "source": [
        "Now, we create the frozen lake environment using gym:"
      ]
    },
    {
      "cell_type": "code",
      "execution_count": 29,
      "metadata": {
        "id": "D57SvCXui1YZ",
        "colab": {
          "base_uri": "https://localhost:8080/"
        },
        "outputId": "312db160-0603-4d3a-bf7e-01e881c94ec8"
      },
      "outputs": [
        {
          "output_type": "stream",
          "name": "stdout",
          "text": [
            "Jumlah termination state di CliffWalking: 2\n"
          ]
        },
        {
          "output_type": "stream",
          "name": "stderr",
          "text": [
            "/usr/local/lib/python3.9/dist-packages/gym/core.py:317: DeprecationWarning: \u001b[33mWARN: Initializing wrapper in old step API which returns one bool instead of two. It is recommended to set `new_step_api=True` to use new step API. This will be the default behaviour in future.\u001b[0m\n",
            "  deprecation(\n",
            "/usr/local/lib/python3.9/dist-packages/gym/wrappers/step_api_compatibility.py:39: DeprecationWarning: \u001b[33mWARN: Initializing environment in old step API which returns one bool instead of two. It is recommended to set `new_step_api=True` to use new step API. This will be the default behaviour in future.\u001b[0m\n",
            "  deprecation(\n"
          ]
        }
      ],
      "source": [
        "env = gym.make('CliffWalking-v0')\n",
        "\n",
        "# Ukuran papan CliffWalking\n",
        "nrow = 4\n",
        "ncol = 12\n",
        "\n",
        "# Total state dalam environment CliffWalking\n",
        "n_states = env.nS\n",
        "\n",
        "# Termination states di CliffWalking\n",
        "termination_states = [n_states - ncol - 1, n_states - 1]\n",
        "\n",
        "print(\"Jumlah termination state di CliffWalking:\", len(termination_states))"
      ]
    },
    {
      "cell_type": "markdown",
      "metadata": {
        "collapsed": true,
        "scrolled": true,
        "id": "M7tn81PBi1YZ"
      },
      "source": [
        "Define the random policy which returns the random action by sampling from the action\n",
        "space:"
      ]
    },
    {
      "cell_type": "code",
      "execution_count": 22,
      "metadata": {
        "id": "6yrS49Msi1Ya"
      },
      "outputs": [],
      "source": [
        "def random_policy():\n",
        "    return env.action_space.sample()"
      ]
    },
    {
      "cell_type": "markdown",
      "metadata": {
        "id": "eNKQ5rkoi1Ya"
      },
      "source": [
        "Let's define the dictionary for storing the value of states and we initialize the value of all the\n",
        "states to 0.0:"
      ]
    },
    {
      "cell_type": "code",
      "execution_count": 23,
      "metadata": {
        "id": "8_xdOSTri1Yb"
      },
      "outputs": [],
      "source": [
        "V = {}\n",
        "for s in range(env.observation_space.n):\n",
        "    V[s] = 0.0"
      ]
    },
    {
      "cell_type": "markdown",
      "metadata": {
        "id": "wRbdDAQLi1Yc"
      },
      "source": [
        "Initialize the discount factor $\\gamma$ and the learning rate $\\alpha$: "
      ]
    },
    {
      "cell_type": "code",
      "execution_count": 24,
      "metadata": {
        "id": "ZLj7OzSei1Yc"
      },
      "outputs": [],
      "source": [
        "alpha = 0.85\n",
        "gamma = 0.90"
      ]
    },
    {
      "cell_type": "markdown",
      "metadata": {
        "id": "P3N4pIf8i1Yd"
      },
      "source": [
        "Define the number of episodes and number of time steps in the episode:"
      ]
    },
    {
      "cell_type": "code",
      "execution_count": 25,
      "metadata": {
        "id": "K9Gk7Z2oi1Yd"
      },
      "outputs": [],
      "source": [
        "num_episodes = 5000\n",
        "num_timesteps = 1000"
      ]
    },
    {
      "cell_type": "markdown",
      "metadata": {
        "id": "u5Y1ncsii1Ye"
      },
      "source": [
        "## Computing the value of states\n",
        "Now, let's compute the value function (state values) using the given random policy as:\n",
        "\n",
        "$$V(s) = V(s) + \\alpha (r + \\gamma V(s') - V(s)) $$"
      ]
    },
    {
      "cell_type": "code",
      "execution_count": 26,
      "metadata": {
        "id": "buuMGDoDi1Ye"
      },
      "outputs": [],
      "source": [
        "#for each episode\n",
        "for i in range(num_episodes):\n",
        "\n",
        "    \n",
        "    #initialize the state by resetting the environment\n",
        "    state = env.reset()\n",
        "    \n",
        "    \n",
        "    #for every step in the episode\n",
        "    for t in range(num_timesteps):\n",
        "    \n",
        "        \n",
        "        #select an action according to random policy\n",
        "        action = random_policy()\n",
        "        \n",
        "        \n",
        "        #perform the selected action and store the next state information\n",
        "        next_state, reward, done, info = env.step(action)\n",
        "        \n",
        "        \n",
        "        #compute the value of the state\n",
        "        V[state] = V[state] + alpha * (reward + gamma * V[next_state] - V[state])\n",
        "        \n",
        "        #update next state to the current state\n",
        "        state = next_state\n",
        "        \n",
        "        #if the current state is the terminal state then break\n",
        "        if done:\n",
        "          break"
      ]
    },
    {
      "cell_type": "markdown",
      "metadata": {
        "id": "RhKNfNAHi1Yf"
      },
      "source": [
        "After all the iterations, we will have a value of all the states according to the given random\n",
        "policy. \n",
        "\n",
        "## Evaluating the value of states \n",
        "\n",
        "Now, let's evaluate our value function (state values). First, let's convert our value dictionary\n",
        "to a pandas data frame for more clarity:"
      ]
    },
    {
      "cell_type": "code",
      "execution_count": 27,
      "metadata": {
        "id": "ylAxCYU3i1Yf"
      },
      "outputs": [],
      "source": [
        "df = pd.DataFrame(list(V.items()), columns=['state', 'value'])"
      ]
    },
    {
      "cell_type": "markdown",
      "metadata": {
        "id": "u3t5Mhuni1Yg"
      },
      "source": [
        "Before checking the value of the states, let's recollect that in the gym all the states in the\n",
        "frozen lake environment will be encoded into numbers. Since we have 16 states, all the\n",
        "states will be encoded into numbers from 0 to 15 as shown below:"
      ]
    },
    {
      "cell_type": "markdown",
      "metadata": {
        "collapsed": true,
        "id": "ngV_KRNBi1Yg"
      },
      "source": [
        "![title](Images/1.png)"
      ]
    },
    {
      "cell_type": "markdown",
      "metadata": {
        "collapsed": true,
        "id": "kK3T6aFui1Yh"
      },
      "source": [
        "Now, Let's check the value of the states:"
      ]
    },
    {
      "cell_type": "code",
      "execution_count": 28,
      "metadata": {
        "id": "cQO_iJwhi1Yh",
        "outputId": "2b9defde-23fc-485e-b852-be7f1416ba6d",
        "colab": {
          "base_uri": "https://localhost:8080/",
          "height": 478
        }
      },
      "outputs": [
        {
          "output_type": "stream",
          "name": "stderr",
          "text": [
            "/usr/local/lib/python3.9/dist-packages/ipykernel/ipkernel.py:283: DeprecationWarning: `should_run_async` will not call `transform_cell` automatically in the future. Please pass the result to `transformed_cell` argument and any exception that happen during thetransform in `preprocessing_exc_tuple` in IPython 7.17 and above.\n",
            "  and should_run_async(code)\n"
          ]
        },
        {
          "output_type": "execute_result",
          "data": {
            "text/plain": [
              "     state      value\n",
              "0        0   0.000000\n",
              "1        1 -18.057808\n",
              "2        2 -14.289152\n",
              "3        3 -17.978286\n",
              "4        4 -19.407453\n",
              "..     ...        ...\n",
              "495    495   0.000000\n",
              "496    496 -21.237803\n",
              "497    497 -18.719766\n",
              "498    498 -15.418856\n",
              "499    499  -0.197762\n",
              "\n",
              "[500 rows x 2 columns]"
            ],
            "text/html": [
              "\n",
              "  <div id=\"df-7b94c62d-4ad6-4365-bc14-5fa2a80c54de\">\n",
              "    <div class=\"colab-df-container\">\n",
              "      <div>\n",
              "<style scoped>\n",
              "    .dataframe tbody tr th:only-of-type {\n",
              "        vertical-align: middle;\n",
              "    }\n",
              "\n",
              "    .dataframe tbody tr th {\n",
              "        vertical-align: top;\n",
              "    }\n",
              "\n",
              "    .dataframe thead th {\n",
              "        text-align: right;\n",
              "    }\n",
              "</style>\n",
              "<table border=\"1\" class=\"dataframe\">\n",
              "  <thead>\n",
              "    <tr style=\"text-align: right;\">\n",
              "      <th></th>\n",
              "      <th>state</th>\n",
              "      <th>value</th>\n",
              "    </tr>\n",
              "  </thead>\n",
              "  <tbody>\n",
              "    <tr>\n",
              "      <th>0</th>\n",
              "      <td>0</td>\n",
              "      <td>0.000000</td>\n",
              "    </tr>\n",
              "    <tr>\n",
              "      <th>1</th>\n",
              "      <td>1</td>\n",
              "      <td>-18.057808</td>\n",
              "    </tr>\n",
              "    <tr>\n",
              "      <th>2</th>\n",
              "      <td>2</td>\n",
              "      <td>-14.289152</td>\n",
              "    </tr>\n",
              "    <tr>\n",
              "      <th>3</th>\n",
              "      <td>3</td>\n",
              "      <td>-17.978286</td>\n",
              "    </tr>\n",
              "    <tr>\n",
              "      <th>4</th>\n",
              "      <td>4</td>\n",
              "      <td>-19.407453</td>\n",
              "    </tr>\n",
              "    <tr>\n",
              "      <th>...</th>\n",
              "      <td>...</td>\n",
              "      <td>...</td>\n",
              "    </tr>\n",
              "    <tr>\n",
              "      <th>495</th>\n",
              "      <td>495</td>\n",
              "      <td>0.000000</td>\n",
              "    </tr>\n",
              "    <tr>\n",
              "      <th>496</th>\n",
              "      <td>496</td>\n",
              "      <td>-21.237803</td>\n",
              "    </tr>\n",
              "    <tr>\n",
              "      <th>497</th>\n",
              "      <td>497</td>\n",
              "      <td>-18.719766</td>\n",
              "    </tr>\n",
              "    <tr>\n",
              "      <th>498</th>\n",
              "      <td>498</td>\n",
              "      <td>-15.418856</td>\n",
              "    </tr>\n",
              "    <tr>\n",
              "      <th>499</th>\n",
              "      <td>499</td>\n",
              "      <td>-0.197762</td>\n",
              "    </tr>\n",
              "  </tbody>\n",
              "</table>\n",
              "<p>500 rows × 2 columns</p>\n",
              "</div>\n",
              "      <button class=\"colab-df-convert\" onclick=\"convertToInteractive('df-7b94c62d-4ad6-4365-bc14-5fa2a80c54de')\"\n",
              "              title=\"Convert this dataframe to an interactive table.\"\n",
              "              style=\"display:none;\">\n",
              "        \n",
              "  <svg xmlns=\"http://www.w3.org/2000/svg\" height=\"24px\"viewBox=\"0 0 24 24\"\n",
              "       width=\"24px\">\n",
              "    <path d=\"M0 0h24v24H0V0z\" fill=\"none\"/>\n",
              "    <path d=\"M18.56 5.44l.94 2.06.94-2.06 2.06-.94-2.06-.94-.94-2.06-.94 2.06-2.06.94zm-11 1L8.5 8.5l.94-2.06 2.06-.94-2.06-.94L8.5 2.5l-.94 2.06-2.06.94zm10 10l.94 2.06.94-2.06 2.06-.94-2.06-.94-.94-2.06-.94 2.06-2.06.94z\"/><path d=\"M17.41 7.96l-1.37-1.37c-.4-.4-.92-.59-1.43-.59-.52 0-1.04.2-1.43.59L10.3 9.45l-7.72 7.72c-.78.78-.78 2.05 0 2.83L4 21.41c.39.39.9.59 1.41.59.51 0 1.02-.2 1.41-.59l7.78-7.78 2.81-2.81c.8-.78.8-2.07 0-2.86zM5.41 20L4 18.59l7.72-7.72 1.47 1.35L5.41 20z\"/>\n",
              "  </svg>\n",
              "      </button>\n",
              "      \n",
              "  <style>\n",
              "    .colab-df-container {\n",
              "      display:flex;\n",
              "      flex-wrap:wrap;\n",
              "      gap: 12px;\n",
              "    }\n",
              "\n",
              "    .colab-df-convert {\n",
              "      background-color: #E8F0FE;\n",
              "      border: none;\n",
              "      border-radius: 50%;\n",
              "      cursor: pointer;\n",
              "      display: none;\n",
              "      fill: #1967D2;\n",
              "      height: 32px;\n",
              "      padding: 0 0 0 0;\n",
              "      width: 32px;\n",
              "    }\n",
              "\n",
              "    .colab-df-convert:hover {\n",
              "      background-color: #E2EBFA;\n",
              "      box-shadow: 0px 1px 2px rgba(60, 64, 67, 0.3), 0px 1px 3px 1px rgba(60, 64, 67, 0.15);\n",
              "      fill: #174EA6;\n",
              "    }\n",
              "\n",
              "    [theme=dark] .colab-df-convert {\n",
              "      background-color: #3B4455;\n",
              "      fill: #D2E3FC;\n",
              "    }\n",
              "\n",
              "    [theme=dark] .colab-df-convert:hover {\n",
              "      background-color: #434B5C;\n",
              "      box-shadow: 0px 1px 3px 1px rgba(0, 0, 0, 0.15);\n",
              "      filter: drop-shadow(0px 1px 2px rgba(0, 0, 0, 0.3));\n",
              "      fill: #FFFFFF;\n",
              "    }\n",
              "  </style>\n",
              "\n",
              "      <script>\n",
              "        const buttonEl =\n",
              "          document.querySelector('#df-7b94c62d-4ad6-4365-bc14-5fa2a80c54de button.colab-df-convert');\n",
              "        buttonEl.style.display =\n",
              "          google.colab.kernel.accessAllowed ? 'block' : 'none';\n",
              "\n",
              "        async function convertToInteractive(key) {\n",
              "          const element = document.querySelector('#df-7b94c62d-4ad6-4365-bc14-5fa2a80c54de');\n",
              "          const dataTable =\n",
              "            await google.colab.kernel.invokeFunction('convertToInteractive',\n",
              "                                                     [key], {});\n",
              "          if (!dataTable) return;\n",
              "\n",
              "          const docLinkHtml = 'Like what you see? Visit the ' +\n",
              "            '<a target=\"_blank\" href=https://colab.research.google.com/notebooks/data_table.ipynb>data table notebook</a>'\n",
              "            + ' to learn more about interactive tables.';\n",
              "          element.innerHTML = '';\n",
              "          dataTable['output_type'] = 'display_data';\n",
              "          await google.colab.output.renderOutput(dataTable, element);\n",
              "          const docLink = document.createElement('div');\n",
              "          docLink.innerHTML = docLinkHtml;\n",
              "          element.appendChild(docLink);\n",
              "        }\n",
              "      </script>\n",
              "    </div>\n",
              "  </div>\n",
              "  "
            ]
          },
          "metadata": {},
          "execution_count": 28
        }
      ],
      "source": [
        "df"
      ]
    },
    {
      "cell_type": "markdown",
      "metadata": {
        "collapsed": true,
        "id": "FS340uDBi1Yi"
      },
      "source": [
        "As we can observe, now we have the value of all the states and also we can notice that\n",
        "the value of all the terminal states (hole states and goal state) is zero.\n",
        "\n",
        "Now that we have understood how TD learning can be used for the prediction task, in the\n",
        "next section, we will learn how to use TD learning for the control task. "
      ]
    },
    {
      "cell_type": "code",
      "execution_count": 28,
      "metadata": {
        "id": "MYYqn39ki1Yj",
        "colab": {
          "base_uri": "https://localhost:8080/"
        },
        "outputId": "5af833aa-4844-411a-b0d0-325f7239b17a"
      },
      "outputs": [
        {
          "output_type": "stream",
          "name": "stderr",
          "text": [
            "/usr/local/lib/python3.9/dist-packages/ipykernel/ipkernel.py:283: DeprecationWarning: `should_run_async` will not call `transform_cell` automatically in the future. Please pass the result to `transformed_cell` argument and any exception that happen during thetransform in `preprocessing_exc_tuple` in IPython 7.17 and above.\n",
            "  and should_run_async(code)\n"
          ]
        }
      ],
      "source": []
    }
  ],
  "metadata": {
    "kernelspec": {
      "display_name": "Python 3 (ipykernel)",
      "language": "python",
      "name": "python3"
    },
    "language_info": {
      "codemirror_mode": {
        "name": "ipython",
        "version": 3
      },
      "file_extension": ".py",
      "mimetype": "text/x-python",
      "name": "python",
      "nbconvert_exporter": "python",
      "pygments_lexer": "ipython3",
      "version": "3.9.12"
    },
    "colab": {
      "provenance": []
    }
  },
  "nbformat": 4,
  "nbformat_minor": 0
}